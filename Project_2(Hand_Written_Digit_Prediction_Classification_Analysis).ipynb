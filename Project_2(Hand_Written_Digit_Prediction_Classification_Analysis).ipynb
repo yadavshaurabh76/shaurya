{
  "nbformat": 4,
  "nbformat_minor": 0,
  "metadata": {
    "colab": {
      "provenance": [],
      "authorship_tag": "ABX9TyNuih7L3lTyzXu436KqFrzE",
      "include_colab_link": true
    },
    "kernelspec": {
      "name": "python3",
      "display_name": "Python 3"
    },
    "language_info": {
      "name": "python"
    }
  },
  "cells": [
    {
      "cell_type": "markdown",
      "metadata": {
        "id": "view-in-github",
        "colab_type": "text"
      },
      "source": [
        "<a href=\"https://colab.research.google.com/github/yadavshaurabh76/shaurya/blob/main/Project_2(Hand_Written_Digit_Prediction_Classification_Analysis).ipynb\" target=\"_parent\"><img src=\"https://colab.research.google.com/assets/colab-badge.svg\" alt=\"Open In Colab\"/></a>"
      ]
    },
    {
      "cell_type": "markdown",
      "source": [
        "# **IMPORT LIBRARY**"
      ],
      "metadata": {
        "id": "cCMTXdXOJAP7"
      }
    },
    {
      "cell_type": "code",
      "source": [
        "import pandas as pd\n",
        "\n"
      ],
      "metadata": {
        "id": "a9_UbVK2JJjc"
      },
      "execution_count": null,
      "outputs": []
    },
    {
      "cell_type": "code",
      "source": [
        "import numpy as np\n"
      ],
      "metadata": {
        "id": "z42lDtDDJkX7"
      },
      "execution_count": null,
      "outputs": []
    },
    {
      "cell_type": "code",
      "source": [
        "import matplotlib.pyplot as plt"
      ],
      "metadata": {
        "id": "Nd86a4evJnzZ"
      },
      "execution_count": null,
      "outputs": []
    },
    {
      "cell_type": "markdown",
      "source": [
        "# **IMPORT DATA**"
      ],
      "metadata": {
        "id": "NtrsUi4ZJrt9"
      }
    },
    {
      "cell_type": "code",
      "source": [
        "from sklearn.datasets import load_digits"
      ],
      "metadata": {
        "id": "zFfiJySEJu_4"
      },
      "execution_count": null,
      "outputs": []
    },
    {
      "cell_type": "code",
      "source": [
        "df = load_digits()\n"
      ],
      "metadata": {
        "id": "f5USW9K7J_Zx"
      },
      "execution_count": null,
      "outputs": []
    },
    {
      "cell_type": "code",
      "source": [
        "_, axes = plt.subplots(nrows=1, ncols=4, figsize=(10, 3))\n",
        "for ax, image, label in zip(axes, df.images, df.target):\n",
        "     ax.set_axis_off()\n",
        "     ax.imshow(image, cmap=plt.cm.gray_r, interpolation=\"nearest\")\n",
        "     ax.set_title(\"Training: %i\" % label)"
      ],
      "metadata": {
        "colab": {
          "base_uri": "https://localhost:8080/",
          "height": 227
        },
        "id": "T81twFPmKLbY",
        "outputId": "da20072b-432f-4884-cd3a-f2b1a19699e9"
      },
      "execution_count": null,
      "outputs": [
        {
          "output_type": "display_data",
          "data": {
            "text/plain": [
              "<Figure size 1000x300 with 4 Axes>"
            ],
            "image/png": "[encoded data removed]"
          },
          "metadata": {}
        }
      ]
    },
    {
      "cell_type": "markdown",
      "source": [
        "# **DATA PROCESSING**"
      ],
      "metadata": {
        "id": "8DUShYO9NbIU"
      }
    },
    {
      "cell_type": "markdown",
      "source": [
        "Flatten Image"
      ],
      "metadata": {
        "id": "vV6kjpo2UOV8"
      }
    },
    {
      "cell_type": "markdown",
      "source": [
        "# **8 * 8 IMAGE**"
      ],
      "metadata": {
        "id": "P9qmFmK8qvMX"
      }
    },
    {
      "cell_type": "markdown",
      "source": [
        "![Color pallate 1 (4).jpg](data:image/jpeg;base64,/9j/4AAQSkZJRgABAQAAAQABAAD/2wBDAAMCAgICAgMCAgIDAwMDBAYEBAQEBAgGBgUGCQgKCgkICQkKDA8MCgsOCwkJDRENDg8QEBEQCgwSExIQEw8QEBD/2wBDAQMDAwQDBAgEBAgQCwkLEBAQEBAQEBAQEBAQEBAQEBAQEBAQEBAQEBAQEBAQEBAQEBAQEBAQEBAQEBAQEBAQEBD/wAARCADIAMgDAREAAhEBAxEB/8QAGwABAQEBAQEBAQAAAAAAAAAAAAMCBAEHBgj/xABAEAABAQQFCwIDAwwDAAAAAAAAAwEEBtECFFSTlAUVFxg0U1VWc5KxM7IRUXITNXEHCBIhIiMkMkJDUmExQUT/xAAbAQEBAQEBAQEBAAAAAAAAAAAAAQIDBwYIBf/EADcRAQAAAgUHDAIBBQEAAAAAAAABAgMEF1GSBhIyUlTR0hETFRYYMVNjcZOh4SEzsQcIFCIjQv/aAAwDAQACEQMRAD8A+OIOrrV0v4VH06P9uj8mf6PP5ppuWP5fPRjHlUqrrZULujImdNenLEqrrZULujIZ015yxKq62VC7oyGdNecsSqutlQu6MhnTXnLEqrrZULujIZ015yxKq62VC7oyGdNecsSqutlQu6MhnTXnLEqrrZULujIZ015yxKq62VC7oyGdNecsSqutlQu6MhnTXnLEqrrZULujIZ015yxKq62VC7oyGdNecsSqutlQu6MhnTXnLEqrrZULujIZ015yxKq62VC7oyGdNecsSqutlQu6MhnTXnLEqrrZULujIZ015yxKq62VC7oyGdNecsSqutlQu6MhnTXnLEqrrZULujIZ015yxKq62VC7oyGdNecsSqutlQu6MhnTXnLEqrrZULujIZ015yxZUdXX7On/AAqH8rf7dH5fgWE03L3rCMW0NnS6dHwwk2lFI97ZlAAAAAAAAAAAAAAAAAAAAAAAAAAeKenS+lvgsO9YMobOl06PhhZtKJHvbMoAAAAAAAAAAAAAAAAAAAAAAAAADxT06X0t8Fh3rBlDZ0unR8MLNpRI97ZlAAAAAAAAAAAAAAAAAAAAAAAAAAeKenS+lvgsO9YMobOl06PhhZtKJHvbMoAAAAAAAAAAAAAAAAAAAAAAAAADxT06X0t8Fh3rBlDZ0unR8MLNpRI97ZlAAAAAAAAAAAAAAAAAAAAAAAAAAeKenS+lvgsO9YPr7p+bFFqjohToxZkP4UkqDWfF2X/7os/2eYUn9UqjLPGH+NP3x/8AUu56RD+nVNNDl5+GH7V1X4u5tyHhl5mLVKjs0+KXctnNNtEMP2ar8Xc25Dwy8xapUdmnxS7izmm2iGH7NV+Lubch4ZeYtUqOzT4pdxZzTbRDD9mq/F3NuQ8MvMWqVHZp8Uu4s5ptohh+zVfi7m3IeGXmLVKjs0+KXcWc020Qw/ZqvxdzbkPDLzFqlR2afFLuLOabaIYfs1X4u5tyHhl5i1So7NPil3FnNNtEMP2ar8Xc25Dwy8xapUdmnxS7izmm2iGH7NV+Lubch4ZeYtUqOzT4pdxZzTbRDD9mq/F3NuQ8MvMWqVHZp8Uu4s5ptohh+zVfi7m3IeGXmLVKjs0+KXcWc020Qw/ZqvxdzbkPDLzFqlR2afFLuLOabaIYfs1X4u5tyHhl5i1So7NPil3FnNNtEMP2ar8Xc25Dwy8xapUdmnxS7izmm2iGH7NV+Lubch4ZeYtUqOzT4pdxZzTbRDD9mq/F3NuQ8MvMWqVHZp8Uu4s5ptohh+zVfi7m3IeGXmLVKjs0+KXcWc020Qw/ZqvxdzbkPDLzFqlR2afFLuLOabaIYfs1X4u5tyHhl5i1So7NPil3FnNNtEMP2ar8Xc25Dwy8xapUdmnxS7izmm2iGH7NV+Lubch4ZeYtUqOzT4pdxZzTbRDD9mq/F3NuQ8MvMWqVHZp8Uu4s5ptohh+zVfi7m3IeGXmLVKjs0+KXcWc020Qw/bKv5sEW0UqdJsW5D/VRa3Zl/l+JqX+qdRjNCH+NPil3FnNND88/DD9v6Kyf93uvQT9jDxam/bN6x/l6pJowdByaAAAAAAAAAAAAAAAAAAAAAAAAABN42dXp0vDTUmnD1gke6KeT/u916CfsYbpv2zesf5STRg6Dk0AAAAAAAAAAAAAAAAAAAAAAAAACbxs6vTpeGmpNOHrBI90U8n/d7r0E/Yw3Tftm9Y/ykmjB0HJoAAAAAAAAAAAAAAAAAAAAAAAAAE3jZ1enS8NNSacPWCR7op5P+73XoJ+xhum/bN6x/lJNGDoOTQAAAAAAAAAAAAAAAAAAAAAAAAAJvGzq9Ol4aak04esEj3RTyf8Ad7r0E/Yw3Tftm9Y/ykmjB0HJoAAAAAAAAAAAAAAAAAAAAAAAAAE3jZ1enS8NNSacPWCR7ovxrjlyNak7MoucP/BiKfw+Kjx/x+iz/R6RSZGVKM80Y00/fH/zLf6uslQrUZYckZflbPkb2OH7x5kY6l1Lxp8Mu9ro+t3y/JnyN7HD948yHUupeNPhl3nR9bvl+TPkb2OH7x5kOpdS8afDLvOj63fL8mfI3scP3jzIdS6l40+GXedH1u+X5M+RvY4fvHmQ6l1Lxp8Mu86Prd8vyZ8jexw/ePMh1LqXjT4Zd50fW75fkz5G9jh+8eZDqXUvGnwy7zo+t3y/JnyN7HD948yHUupeNPhl3nR9bvl+TPkb2OH7x5kOpdS8afDLvOj63fL8mfI3scP3jzIdS6l40+GXedH1u+X5M+RvY4fvHmQ6l1Lxp8Mu86Prd8vyZ8jexw/ePMh1LqXjT4Zd50fW75fkz5G9jh+8eZDqXUvGnwy7zo+t3y/JnyN7HD948yHUupeNPhl3nR9bvl+TPkb2OH7x5kOpdS8afDLvOj63fL8mfI3scP3jzIdS6l40+GXedH1u+X5M+RvY4fvHmQ6l1Lxp8Mu86Prd8vyZ8jexw/ePMh1LqXjT4Zd50fW75fkz5G9jh+8eZDqXUvGnwy7zo+t3y/JnyN7HD948yHUupeNPhl3nR9bvl+TPkb2OH7x5kOpdS8afDLvOj63fL8mfI3scP3jzIdS6l40+GXedH1u+X5M+RvY4fvHmQ6l1Lxp8Mu86Prd8vywvlyNvsFPi5w/8P0KXx/ePHy/A1LkXUoTQ/wC0+GXek1QrfJH8y/LeT9gduin7WH1tJpx9X92i/XD0dBh0AAAAAAAAAAAAAAAAAAAAAAAAABN42dXp0vBqTSgxPoxTyfsDt0U/awtJpx9Uov1w9HQYdAAAAAAAAAAAAAAAAAAAAAAAAAATeNnV6dLwak0oMT6MU8n7A7dFP2sLSacfVKL9cPR0GHQAAAAAAAAAAAAAAAAAAAAAAAAAE3jZ1enS8GpNKDE+jFPJ+wO3RT9rC0mnH1Si/XD0dBh0AAAAAAAAAAAAAAAAAAAAAAAAABN42dXp0vBqTSgxPoxTyfsDt0U/awtJpx9Uov1w9HQYdAAAAAAAAAAAAAAAAAAAAAAAAAATeNnV6dLwak0oMT6MXxp0/KDGLHRBjMrIMYxKh+qpp/4sP29J/b1kjSSwnjNTfnzIcD8yWr5QS/6w5vDHiV0hRlxdDBJmuzxkhrU3uQ4C1nKDy8MeI0hRlxdDBJjs8ZIa1N7kOAtZyg8vDHiNIUZcXQwSY7PGSGtTe5DgLWcoPLwx4jSFGXF0MEmOzxkhrU3uQ4C1nKDy8MeI0hRlxdDBJjs8ZIa1N7kOAtZyg8vDHiNIUZcXQwSY7PGSGtTe5DgLWcoPLwx4jSFGXF0MEmOzxkhrU3uQ4C1nKDy8MeI0hRlxdDBJjs8ZIa1N7kOAtZyg8vDHiNIUZcXQwSY7PGSGtTe5DgLWcoPLwx4jSFGXF0MEmOzxkhrU3uQ4C1nKDy8MeI0hRlxdDBJjs8ZIa1N7kOAtZyg8vDHiNIUZcXQwSY7PGSGtTe5DgLWcoPLwx4jSFGXF0MEmOzxkhrU3uQ4C1nKDy8MeI0hRlxdDBJjs8ZIa1N7kOAtZyg8vDHiNIUZcXQwSY7PGSGtTe5DgLWcoPLwx4jSFGXF0MEmOzxkhrU3uQ4C1nKDy8MeI0hRlxdDBJjs8ZIa1N7kOAtZyg8vDHiNIUZcXQwSY7PGSGtTe5DgLWcoPLwx4jSFGXF0MEmOzxkhrU3uQ4C1nKDy8MeI0hRlxdDBJjs8ZIa1N7kOAtZyg8vDHiNIUZcXQwSY7PGSGtTe5DgLWcoPLwx4jSFGXF0MEmOzxkhrU3uQ4C1nKDy8MeI0hRlxdDBJjs8ZIa1N7kOAtZyg8vDHiYW/KDGTUlGNysg39ml/4k/kSb+3nJGWHLCam9yHAWsZQR/H/ADwx4n5x12VDpUPaw9yof1y+kHmc3fFU6oAAAAAAAAAAAAAAAAAAAAAAAAADCvpU/pb4Mz6MVh3suuyodKh7WGKH9cvpAm74qnVAAAAAAAAAAAAAAAAAAAAAAAAAAYV9Kn9LfBmfRisO9l12VDpUPawxQ/rl9IE3fFU6oAAAAAAAAAAAAAAAAAAAAAAAAADCvpU/pb4Mz6MVh3suuyodKh7WGKH9cvpAm74qnVAAAAAAAAAAAAAAAAAAAAAAAAAAYV9Kn9LfBmfRisO9l12VDpUPawxQ/rl9IE3fFU6oAAAAAAAAAAAAAAAAAAAAAAAAADCvpU/pb4Mz6MVh3ourw71VH9+l6VD+tn+LDjQ0tHzcv+0O5qaWPLH8K1h336XeyZ052j1oM5s1xWHffpd7JjnaPWgZs1xWHffpd7JjnaPWgZs1xWHffpd7JjnaPWgZs1xWHffpd7JjnaPWgZs1xWHffpd7JjnaPWgZs1xWHffpd7JjnaPWgZs1xWHffpd7JjnaPWgZs1xWHffpd7JjnaPWgZs1xWHffpd7JjnaPWgZs1xWHffpd7JjnaPWgZs1xWHffpd7JjnaPWgZs1xWHffpd7JjnaPWgZs1xWHffpd7JjnaPWgZs1xWHffpd7JjnaPWgZs1xWHffpd7JjnaPWgZs1xWHffpd7JjnaPWgZs1xWHffpd7JjnaPWgZs1xWHffpd7JjnaPWgZs1xWHffpd7JjnaPWgZs1xWHffpd7JjnaPWgZs1xWHffpd7JjnaPWgZs1xWHffpd7JjnaPWgZs1zCrw7/ZU/wB+l/K3+tny/EzPTUebH/aCwljy9z//2Q==)"
      ],
      "metadata": {
        "id": "E9awC3XVdZRv"
      }
    },
    {
      "cell_type": "markdown",
      "source": [
        "# **FLATTEN IMAGE**"
      ],
      "metadata": {
        "id": "0J_B1nmriKfx"
      }
    },
    {
      "cell_type": "markdown",
      "source": [
        "![png pallet (1).png](data:image/png;base64,iVBORw0KGgoAAAANSUhEUgAAA+gAAAMECAMAAAAb+/8vAAAAM1BMVEX////7uA9McDH/kU1Scf9OTEr4+Pc3SyL/uw9NcTK6aDX/lE5Tc/84T7m9igiufgYVFhGuAdiGAAAEdklEQVR42uzV25HCMBREQeG1kF/AzT/aLRuKIJjukgK4H6emNQAAAAAAAAAAAAAAAAAAAAAAAAAAAAAAAAAAAAAAAAAAAAAAAAAAAAAAAAAAAAAAAAAAAAAAAAAAAAAAAAAAAAAAAAAAAAAAAAAAAAAAAAAAAAAAAAAAAAAAAAAAAAAAAAAAAAAAAAAAAAAAAAAAAAAAAAAAAAAAAAAAAAAAAAAAAAAAAAAAAAAAAAAAAAAAAAAAAAAAAAAAAAAAAAAAAAAAAAAAAAAAAAAAAAAAAAAAAAAAAAAAAAAAAAAAAAAAAAAAAAAAAAAAAAAAAAAAAAAAAAAAAAAAAAAAAAAAAAAAAAAAAAAAAAAAAAAAAAAAAAAAAAAAAAAAAAAAAAAAAAAAAAAAAAAAAAAAAAAAAAAAAAAAAAAAAAAAAAAAAAAAAAAAAAAAAAAAAAAAAAAAAAAAAAAAAAAAAAAAAAAAAAAAAAAAAAAAAAAAAAAAAAAAAAAAAAB+0R34ea0TbXV3hFYjWNXrmW0bY0vUez2SVKtpjTVV3ZZsz9H/9kDb6PORY75CT019OkMPd4Z+2aPeFfp8nK0H/Hn+hD5lZi702/INPcs79CCf0FNZdKELXegWXehCF7pFF7rQhW7RhS50oVt0oQtd6BZd6EIXukUXutCFbtGFLnShW3ShC92iC13oQrfoQhe60C260IUudIsudKEL3aILXehCt+hCF7rQLbrQhS50iy50oVt0oQtd6BZd6EIXukUXutCFbtGFLnShW3ShC13oFl3oQhe6RRe60IVu0YUudIsudKEL3aILXehCt+hCF7rQLbrQhS50iy50oQvdogtd6EK36EIXutAtutCFLnSLLnShW3ShC13oFl3oQhe6RRe60IVu0YUudKFbdKELXegWXehCF7pFF7rQhW7RhS50iy50oQvdogtd6EK36EIXutAtutCFLnSLLnShC92iC13oQrfoQhe60C260N+hp7pCX7Kdoe+BztCPGFfoI1jVK9w0akvURz2SVOtEW90doQEAAAAAAAAAAAAAAAAAAAAAAAAAAAAAAAAAAAAAAAAAAAAAAAAAAAAAAAAAAAAAAAAAAAAAAAAAAAAAAAAAAAAAAAAAAAAAAAAAAAAAAAAAAAAAAAAAAAAAAAAA8N8eHBIAAAAACPr/2hkWAAAAAAAAAAAAAAAAAAAAAAAAAAAAAAAAAAAAAAAAAAAAAAAAAAAAAAAAAAAAAAAAAAAAAAAAAAAAAAAAAAAAAAAAAAAAAAAAAAAAAAAAAAAAAAAAAAAAAAAAAAAAAAAAAAAAAAAAAAAAAAAAAAAAAAAAAAAAAAAAAAAAAAAAAAAAAAAAAAAAAAAAAAAAAAAAAAAAAAAAAAAAAAAAAAAAAAAAAAAAAAAAAAAAAAAAAAAAAAAAAAAAAAAAAAAAAAAAAAAAAAAAAAAAAAAAAAAAAAAAAAAAAAAAAAAAAAAAAAAAAAAAAAAAAAAAAAAAAAAAAAAAAAAAAAAAAAAAAAAAAAAAANgFCWwDNLsBnZMAAAAASUVORK5CYII=)"
      ],
      "metadata": {
        "id": "bh3vWgq-huIr"
      }
    },
    {
      "cell_type": "code",
      "source": [
        "df.images.shape"
      ],
      "metadata": {
        "colab": {
          "base_uri": "https://localhost:8080/"
        },
        "id": "CScLbOZChx5j",
        "outputId": "ed660097-02b1-4823-fe07-f76bc9749fd1"
      },
      "execution_count": 18,
      "outputs": [
        {
          "output_type": "execute_result",
          "data": {
            "text/plain": [
              "(1797, 8, 8)"
            ]
          },
          "metadata": {},
          "execution_count": 18
        }
      ]
    },
    {
      "cell_type": "code",
      "source": [
        "df.images[0]"
      ],
      "metadata": {
        "colab": {
          "base_uri": "https://localhost:8080/"
        },
        "id": "XfSfxL2qh6aX",
        "outputId": "3e19fa38-8daf-4ae2-d399-7cca264ffc79"
      },
      "execution_count": 20,
      "outputs": [
        {
          "output_type": "execute_result",
          "data": {
            "text/plain": [
              "array([[ 0.,  0.,  5., 13.,  9.,  1.,  0.,  0.],\n",
              "       [ 0.,  0., 13., 15., 10., 15.,  5.,  0.],\n",
              "       [ 0.,  3., 15.,  2.,  0., 11.,  8.,  0.],\n",
              "       [ 0.,  4., 12.,  0.,  0.,  8.,  8.,  0.],\n",
              "       [ 0.,  5.,  8.,  0.,  0.,  9.,  8.,  0.],\n",
              "       [ 0.,  4., 11.,  0.,  1., 12.,  7.,  0.],\n",
              "       [ 0.,  2., 14.,  5., 10., 12.,  0.,  0.],\n",
              "       [ 0.,  0.,  6., 13., 10.,  0.,  0.,  0.]])"
            ]
          },
          "metadata": {},
          "execution_count": 20
        }
      ]
    },
    {
      "cell_type": "code",
      "source": [
        "df.images[0].shape"
      ],
      "metadata": {
        "colab": {
          "base_uri": "https://localhost:8080/"
        },
        "id": "cA3mcj9OiZ7L",
        "outputId": "e6f73166-10bd-46ea-ed3f-ccdac267c225"
      },
      "execution_count": 21,
      "outputs": [
        {
          "output_type": "execute_result",
          "data": {
            "text/plain": [
              "(8, 8)"
            ]
          },
          "metadata": {},
          "execution_count": 21
        }
      ]
    },
    {
      "cell_type": "code",
      "source": [
        "len(df.images)"
      ],
      "metadata": {
        "colab": {
          "base_uri": "https://localhost:8080/"
        },
        "id": "y26k-n4ligWh",
        "outputId": "2bbdaead-8968-40a8-9927-82f9a58421de"
      },
      "execution_count": 22,
      "outputs": [
        {
          "output_type": "execute_result",
          "data": {
            "text/plain": [
              "1797"
            ]
          },
          "metadata": {},
          "execution_count": 22
        }
      ]
    },
    {
      "cell_type": "code",
      "source": [
        "n_samples = len(df.images)\n",
        "data = df.images.reshape((n_samples, -1))"
      ],
      "metadata": {
        "id": "0CGVMAPHiqa1"
      },
      "execution_count": 25,
      "outputs": []
    },
    {
      "cell_type": "code",
      "source": [
        "data[0]"
      ],
      "metadata": {
        "colab": {
          "base_uri": "https://localhost:8080/"
        },
        "id": "3UoWQviajcDf",
        "outputId": "3bc5b6ca-ff2a-428b-85d3-0ca29156aad7"
      },
      "execution_count": 26,
      "outputs": [
        {
          "output_type": "execute_result",
          "data": {
            "text/plain": [
              "array([ 0.,  0.,  5., 13.,  9.,  1.,  0.,  0.,  0.,  0., 13., 15., 10.,\n",
              "       15.,  5.,  0.,  0.,  3., 15.,  2.,  0., 11.,  8.,  0.,  0.,  4.,\n",
              "       12.,  0.,  0.,  8.,  8.,  0.,  0.,  5.,  8.,  0.,  0.,  9.,  8.,\n",
              "        0.,  0.,  4., 11.,  0.,  1., 12.,  7.,  0.,  0.,  2., 14.,  5.,\n",
              "       10., 12.,  0.,  0.,  0.,  0.,  6., 13., 10.,  0.,  0.,  0.])"
            ]
          },
          "metadata": {},
          "execution_count": 26
        }
      ]
    },
    {
      "cell_type": "code",
      "source": [
        "data[0].shape"
      ],
      "metadata": {
        "colab": {
          "base_uri": "https://localhost:8080/"
        },
        "id": "DV1Keq00jlmL",
        "outputId": "9804ce07-dbd3-444c-fb88-51d5ed36aee8"
      },
      "execution_count": 27,
      "outputs": [
        {
          "output_type": "execute_result",
          "data": {
            "text/plain": [
              "(64,)"
            ]
          },
          "metadata": {},
          "execution_count": 27
        }
      ]
    },
    {
      "cell_type": "code",
      "source": [
        "data.shape"
      ],
      "metadata": {
        "colab": {
          "base_uri": "https://localhost:8080/"
        },
        "id": "jxNXxcHXkBIw",
        "outputId": "c1096857-38ef-4bb1-8698-2e71448bd161"
      },
      "execution_count": 28,
      "outputs": [
        {
          "output_type": "execute_result",
          "data": {
            "text/plain": [
              "(1797, 64)"
            ]
          },
          "metadata": {},
          "execution_count": 28
        }
      ]
    },
    {
      "cell_type": "markdown",
      "source": [
        "# **SCALING IMAGE DATA**"
      ],
      "metadata": {
        "id": "ztGtx42SkPVY"
      }
    },
    {
      "cell_type": "code",
      "source": [
        "data.min()"
      ],
      "metadata": {
        "colab": {
          "base_uri": "https://localhost:8080/"
        },
        "id": "QD9EpdS2kUjb",
        "outputId": "3b28193f-3aea-46c0-a0ee-cdaea5f49334"
      },
      "execution_count": 29,
      "outputs": [
        {
          "output_type": "execute_result",
          "data": {
            "text/plain": [
              "0.0"
            ]
          },
          "metadata": {},
          "execution_count": 29
        }
      ]
    },
    {
      "cell_type": "code",
      "source": [
        "data.max()"
      ],
      "metadata": {
        "colab": {
          "base_uri": "https://localhost:8080/"
        },
        "id": "2wPcj8uekYom",
        "outputId": "a69ff9ca-f6dd-41f6-913d-2c8e2a84e9b1"
      },
      "execution_count": 30,
      "outputs": [
        {
          "output_type": "execute_result",
          "data": {
            "text/plain": [
              "16.0"
            ]
          },
          "metadata": {},
          "execution_count": 30
        }
      ]
    },
    {
      "cell_type": "code",
      "source": [
        "data = data/16"
      ],
      "metadata": {
        "id": "eYPIoGdukhCe"
      },
      "execution_count": 31,
      "outputs": []
    },
    {
      "cell_type": "code",
      "source": [
        "data.min()"
      ],
      "metadata": {
        "colab": {
          "base_uri": "https://localhost:8080/"
        },
        "id": "VkRsoKE0khOm",
        "outputId": "69f73e08-4089-424d-ffa7-2a29c5d37907"
      },
      "execution_count": 32,
      "outputs": [
        {
          "output_type": "execute_result",
          "data": {
            "text/plain": [
              "0.0"
            ]
          },
          "metadata": {},
          "execution_count": 32
        }
      ]
    },
    {
      "cell_type": "code",
      "source": [
        "data.max()"
      ],
      "metadata": {
        "colab": {
          "base_uri": "https://localhost:8080/"
        },
        "id": "VciW8uhjkx3m",
        "outputId": "a7d5943e-2592-4b58-8682-3957cc97a5aa"
      },
      "execution_count": 33,
      "outputs": [
        {
          "output_type": "execute_result",
          "data": {
            "text/plain": [
              "1.0"
            ]
          },
          "metadata": {},
          "execution_count": 33
        }
      ]
    },
    {
      "cell_type": "code",
      "source": [
        "data[0]"
      ],
      "metadata": {
        "colab": {
          "base_uri": "https://localhost:8080/"
        },
        "id": "K0q8RHLmk354",
        "outputId": "7eeb0b62-5fed-4dfa-cfb1-fac1c2c7b08f"
      },
      "execution_count": 34,
      "outputs": [
        {
          "output_type": "execute_result",
          "data": {
            "text/plain": [
              "array([0.    , 0.    , 0.3125, 0.8125, 0.5625, 0.0625, 0.    , 0.    ,\n",
              "       0.    , 0.    , 0.8125, 0.9375, 0.625 , 0.9375, 0.3125, 0.    ,\n",
              "       0.    , 0.1875, 0.9375, 0.125 , 0.    , 0.6875, 0.5   , 0.    ,\n",
              "       0.    , 0.25  , 0.75  , 0.    , 0.    , 0.5   , 0.5   , 0.    ,\n",
              "       0.    , 0.3125, 0.5   , 0.    , 0.    , 0.5625, 0.5   , 0.    ,\n",
              "       0.    , 0.25  , 0.6875, 0.    , 0.0625, 0.75  , 0.4375, 0.    ,\n",
              "       0.    , 0.125 , 0.875 , 0.3125, 0.625 , 0.75  , 0.    , 0.    ,\n",
              "       0.    , 0.    , 0.375 , 0.8125, 0.625 , 0.    , 0.    , 0.    ])"
            ]
          },
          "metadata": {},
          "execution_count": 34
        }
      ]
    },
    {
      "cell_type": "markdown",
      "source": [
        "# **TRAIN TEST SPLIT DATA**"
      ],
      "metadata": {
        "id": "SODKnPMAlHhV"
      }
    },
    {
      "cell_type": "code",
      "source": [
        "from sklearn.model_selection import train_test_split"
      ],
      "metadata": {
        "id": "JGVUacFwlMNr"
      },
      "execution_count": 35,
      "outputs": []
    },
    {
      "cell_type": "code",
      "source": [
        "x_train,x_test,y_train,y_test = train_test_split(data, df.target, test_size=0.3)"
      ],
      "metadata": {
        "id": "rClnp2HVlhx-"
      },
      "execution_count": 36,
      "outputs": []
    },
    {
      "cell_type": "code",
      "source": [
        "x_train.shape,x_test.shape,y_train.shape,y_test.shape"
      ],
      "metadata": {
        "colab": {
          "base_uri": "https://localhost:8080/"
        },
        "id": "GVKeW6QtmCMF",
        "outputId": "0f97e779-6675-4090-b053-fbd3e28a2c11"
      },
      "execution_count": 37,
      "outputs": [
        {
          "output_type": "execute_result",
          "data": {
            "text/plain": [
              "((1257, 64), (540, 64), (1257,), (540,))"
            ]
          },
          "metadata": {},
          "execution_count": 37
        }
      ]
    },
    {
      "cell_type": "markdown",
      "source": [
        "# **RANDOM FOREST MODEL**"
      ],
      "metadata": {
        "id": "YE4ql6UdmQxy"
      }
    },
    {
      "cell_type": "code",
      "source": [
        "from sklearn.ensemble import RandomForestClassifier"
      ],
      "metadata": {
        "id": "ang8_fdBmaKN"
      },
      "execution_count": 38,
      "outputs": []
    },
    {
      "cell_type": "code",
      "source": [
        "rf = RandomForestClassifier()"
      ],
      "metadata": {
        "id": "xXz86i6gmpjl"
      },
      "execution_count": 39,
      "outputs": []
    },
    {
      "cell_type": "code",
      "source": [
        "rf.fit(x_train,y_train)"
      ],
      "metadata": {
        "colab": {
          "base_uri": "https://localhost:8080/",
          "height": 80
        },
        "id": "Mspj9bDzmv_I",
        "outputId": "a9f823a6-913b-478e-be89-698eec3970dc"
      },
      "execution_count": 40,
      "outputs": [
        {
          "output_type": "execute_result",
          "data": {
            "text/plain": [
              "RandomForestClassifier()"
            ],
            "text/html": [
              "<style>#sk-container-id-1 {\n",
              "  /* Definition of color scheme common for light and dark mode */\n",
              "  --sklearn-color-text: #000;\n",
              "  --sklearn-color-text-muted: #666;\n",
              "  --sklearn-color-line: gray;\n",
              "  /* Definition of color scheme for unfitted estimators */\n",
              "  --sklearn-color-unfitted-level-0: #fff5e6;\n",
              "  --sklearn-color-unfitted-level-1: #f6e4d2;\n",
              "  --sklearn-color-unfitted-level-2: #ffe0b3;\n",
              "  --sklearn-color-unfitted-level-3: chocolate;\n",
              "  /* Definition of color scheme for fitted estimators */\n",
              "  --sklearn-color-fitted-level-0: #f0f8ff;\n",
              "  --sklearn-color-fitted-level-1: #d4ebff;\n",
              "  --sklearn-color-fitted-level-2: #b3dbfd;\n",
              "  --sklearn-color-fitted-level-3: cornflowerblue;\n",
              "\n",
              "  /* Specific color for light theme */\n",
              "  --sklearn-color-text-on-default-background: var(--sg-text-color, var(--theme-code-foreground, var(--jp-content-font-color1, black)));\n",
              "  --sklearn-color-background: var(--sg-background-color, var(--theme-background, var(--jp-layout-color0, white)));\n",
              "  --sklearn-color-border-box: var(--sg-text-color, var(--theme-code-foreground, var(--jp-content-font-color1, black)));\n",
              "  --sklearn-color-icon: #696969;\n",
              "\n",
              "  @media (prefers-color-scheme: dark) {\n",
              "    /* Redefinition of color scheme for dark theme */\n",
              "    --sklearn-color-text-on-default-background: var(--sg-text-color, var(--theme-code-foreground, var(--jp-content-font-color1, white)));\n",
              "    --sklearn-color-background: var(--sg-background-color, var(--theme-background, var(--jp-layout-color0, #111)));\n",
              "    --sklearn-color-border-box: var(--sg-text-color, var(--theme-code-foreground, var(--jp-content-font-color1, white)));\n",
              "    --sklearn-color-icon: #878787;\n",
              "  }\n",
              "}\n",
              "\n",
              "#sk-container-id-1 {\n",
              "  color: var(--sklearn-color-text);\n",
              "}\n",
              "\n",
              "#sk-container-id-1 pre {\n",
              "  padding: 0;\n",
              "}\n",
              "\n",
              "#sk-container-id-1 input.sk-hidden--visually {\n",
              "  border: 0;\n",
              "  clip: rect(1px 1px 1px 1px);\n",
              "  clip: rect(1px, 1px, 1px, 1px);\n",
              "  height: 1px;\n",
              "  margin: -1px;\n",
              "  overflow: hidden;\n",
              "  padding: 0;\n",
              "  position: absolute;\n",
              "  width: 1px;\n",
              "}\n",
              "\n",
              "#sk-container-id-1 div.sk-dashed-wrapped {\n",
              "  border: 1px dashed var(--sklearn-color-line);\n",
              "  margin: 0 0.4em 0.5em 0.4em;\n",
              "  box-sizing: border-box;\n",
              "  padding-bottom: 0.4em;\n",
              "  background-color: var(--sklearn-color-background);\n",
              "}\n",
              "\n",
              "#sk-container-id-1 div.sk-container {\n",
              "  /* jupyter's `normalize.less` sets `[hidden] { display: none; }`\n",
              "     but bootstrap.min.css set `[hidden] { display: none !important; }`\n",
              "     so we also need the `!important` here to be able to override the\n",
              "     default hidden behavior on the sphinx rendered scikit-learn.org.\n",
              "     See: https://github.com/scikit-learn/scikit-learn/issues/21755 */\n",
              "  display: inline-block !important;\n",
              "  position: relative;\n",
              "}\n",
              "\n",
              "#sk-container-id-1 div.sk-text-repr-fallback {\n",
              "  display: none;\n",
              "}\n",
              "\n",
              "div.sk-parallel-item,\n",
              "div.sk-serial,\n",
              "div.sk-item {\n",
              "  /* draw centered vertical line to link estimators */\n",
              "  background-image: linear-gradient(var(--sklearn-color-text-on-default-background), var(--sklearn-color-text-on-default-background));\n",
              "  background-size: 2px 100%;\n",
              "  background-repeat: no-repeat;\n",
              "  background-position: center center;\n",
              "}\n",
              "\n",
              "/* Parallel-specific style estimator block */\n",
              "\n",
              "#sk-container-id-1 div.sk-parallel-item::after {\n",
              "  content: \"\";\n",
              "  width: 100%;\n",
              "  border-bottom: 2px solid var(--sklearn-color-text-on-default-background);\n",
              "  flex-grow: 1;\n",
              "}\n",
              "\n",
              "#sk-container-id-1 div.sk-parallel {\n",
              "  display: flex;\n",
              "  align-items: stretch;\n",
              "  justify-content: center;\n",
              "  background-color: var(--sklearn-color-background);\n",
              "  position: relative;\n",
              "}\n",
              "\n",
              "#sk-container-id-1 div.sk-parallel-item {\n",
              "  display: flex;\n",
              "  flex-direction: column;\n",
              "}\n",
              "\n",
              "#sk-container-id-1 div.sk-parallel-item:first-child::after {\n",
              "  align-self: flex-end;\n",
              "  width: 50%;\n",
              "}\n",
              "\n",
              "#sk-container-id-1 div.sk-parallel-item:last-child::after {\n",
              "  align-self: flex-start;\n",
              "  width: 50%;\n",
              "}\n",
              "\n",
              "#sk-container-id-1 div.sk-parallel-item:only-child::after {\n",
              "  width: 0;\n",
              "}\n",
              "\n",
              "/* Serial-specific style estimator block */\n",
              "\n",
              "#sk-container-id-1 div.sk-serial {\n",
              "  display: flex;\n",
              "  flex-direction: column;\n",
              "  align-items: center;\n",
              "  background-color: var(--sklearn-color-background);\n",
              "  padding-right: 1em;\n",
              "  padding-left: 1em;\n",
              "}\n",
              "\n",
              "\n",
              "/* Toggleable style: style used for estimator/Pipeline/ColumnTransformer box that is\n",
              "clickable and can be expanded/collapsed.\n",
              "- Pipeline and ColumnTransformer use this feature and define the default style\n",
              "- Estimators will overwrite some part of the style using the `sk-estimator` class\n",
              "*/\n",
              "\n",
              "/* Pipeline and ColumnTransformer style (default) */\n",
              "\n",
              "#sk-container-id-1 div.sk-toggleable {\n",
              "  /* Default theme specific background. It is overwritten whether we have a\n",
              "  specific estimator or a Pipeline/ColumnTransformer */\n",
              "  background-color: var(--sklearn-color-background);\n",
              "}\n",
              "\n",
              "/* Toggleable label */\n",
              "#sk-container-id-1 label.sk-toggleable__label {\n",
              "  cursor: pointer;\n",
              "  display: flex;\n",
              "  width: 100%;\n",
              "  margin-bottom: 0;\n",
              "  padding: 0.5em;\n",
              "  box-sizing: border-box;\n",
              "  text-align: center;\n",
              "  align-items: start;\n",
              "  justify-content: space-between;\n",
              "  gap: 0.5em;\n",
              "}\n",
              "\n",
              "#sk-container-id-1 label.sk-toggleable__label .caption {\n",
              "  font-size: 0.6rem;\n",
              "  font-weight: lighter;\n",
              "  color: var(--sklearn-color-text-muted);\n",
              "}\n",
              "\n",
              "#sk-container-id-1 label.sk-toggleable__label-arrow:before {\n",
              "  /* Arrow on the left of the label */\n",
              "  content: \"▸\";\n",
              "  float: left;\n",
              "  margin-right: 0.25em;\n",
              "  color: var(--sklearn-color-icon);\n",
              "}\n",
              "\n",
              "#sk-container-id-1 label.sk-toggleable__label-arrow:hover:before {\n",
              "  color: var(--sklearn-color-text);\n",
              "}\n",
              "\n",
              "/* Toggleable content - dropdown */\n",
              "\n",
              "#sk-container-id-1 div.sk-toggleable__content {\n",
              "  max-height: 0;\n",
              "  max-width: 0;\n",
              "  overflow: hidden;\n",
              "  text-align: left;\n",
              "  /* unfitted */\n",
              "  background-color: var(--sklearn-color-unfitted-level-0);\n",
              "}\n",
              "\n",
              "#sk-container-id-1 div.sk-toggleable__content.fitted {\n",
              "  /* fitted */\n",
              "  background-color: var(--sklearn-color-fitted-level-0);\n",
              "}\n",
              "\n",
              "#sk-container-id-1 div.sk-toggleable__content pre {\n",
              "  margin: 0.2em;\n",
              "  border-radius: 0.25em;\n",
              "  color: var(--sklearn-color-text);\n",
              "  /* unfitted */\n",
              "  background-color: var(--sklearn-color-unfitted-level-0);\n",
              "}\n",
              "\n",
              "#sk-container-id-1 div.sk-toggleable__content.fitted pre {\n",
              "  /* unfitted */\n",
              "  background-color: var(--sklearn-color-fitted-level-0);\n",
              "}\n",
              "\n",
              "#sk-container-id-1 input.sk-toggleable__control:checked~div.sk-toggleable__content {\n",
              "  /* Expand drop-down */\n",
              "  max-height: 200px;\n",
              "  max-width: 100%;\n",
              "  overflow: auto;\n",
              "}\n",
              "\n",
              "#sk-container-id-1 input.sk-toggleable__control:checked~label.sk-toggleable__label-arrow:before {\n",
              "  content: \"▾\";\n",
              "}\n",
              "\n",
              "/* Pipeline/ColumnTransformer-specific style */\n",
              "\n",
              "#sk-container-id-1 div.sk-label input.sk-toggleable__control:checked~label.sk-toggleable__label {\n",
              "  color: var(--sklearn-color-text);\n",
              "  background-color: var(--sklearn-color-unfitted-level-2);\n",
              "}\n",
              "\n",
              "#sk-container-id-1 div.sk-label.fitted input.sk-toggleable__control:checked~label.sk-toggleable__label {\n",
              "  background-color: var(--sklearn-color-fitted-level-2);\n",
              "}\n",
              "\n",
              "/* Estimator-specific style */\n",
              "\n",
              "/* Colorize estimator box */\n",
              "#sk-container-id-1 div.sk-estimator input.sk-toggleable__control:checked~label.sk-toggleable__label {\n",
              "  /* unfitted */\n",
              "  background-color: var(--sklearn-color-unfitted-level-2);\n",
              "}\n",
              "\n",
              "#sk-container-id-1 div.sk-estimator.fitted input.sk-toggleable__control:checked~label.sk-toggleable__label {\n",
              "  /* fitted */\n",
              "  background-color: var(--sklearn-color-fitted-level-2);\n",
              "}\n",
              "\n",
              "#sk-container-id-1 div.sk-label label.sk-toggleable__label,\n",
              "#sk-container-id-1 div.sk-label label {\n",
              "  /* The background is the default theme color */\n",
              "  color: var(--sklearn-color-text-on-default-background);\n",
              "}\n",
              "\n",
              "/* On hover, darken the color of the background */\n",
              "#sk-container-id-1 div.sk-label:hover label.sk-toggleable__label {\n",
              "  color: var(--sklearn-color-text);\n",
              "  background-color: var(--sklearn-color-unfitted-level-2);\n",
              "}\n",
              "\n",
              "/* Label box, darken color on hover, fitted */\n",
              "#sk-container-id-1 div.sk-label.fitted:hover label.sk-toggleable__label.fitted {\n",
              "  color: var(--sklearn-color-text);\n",
              "  background-color: var(--sklearn-color-fitted-level-2);\n",
              "}\n",
              "\n",
              "/* Estimator label */\n",
              "\n",
              "#sk-container-id-1 div.sk-label label {\n",
              "  font-family: monospace;\n",
              "  font-weight: bold;\n",
              "  display: inline-block;\n",
              "  line-height: 1.2em;\n",
              "}\n",
              "\n",
              "#sk-container-id-1 div.sk-label-container {\n",
              "  text-align: center;\n",
              "}\n",
              "\n",
              "/* Estimator-specific */\n",
              "#sk-container-id-1 div.sk-estimator {\n",
              "  font-family: monospace;\n",
              "  border: 1px dotted var(--sklearn-color-border-box);\n",
              "  border-radius: 0.25em;\n",
              "  box-sizing: border-box;\n",
              "  margin-bottom: 0.5em;\n",
              "  /* unfitted */\n",
              "  background-color: var(--sklearn-color-unfitted-level-0);\n",
              "}\n",
              "\n",
              "#sk-container-id-1 div.sk-estimator.fitted {\n",
              "  /* fitted */\n",
              "  background-color: var(--sklearn-color-fitted-level-0);\n",
              "}\n",
              "\n",
              "/* on hover */\n",
              "#sk-container-id-1 div.sk-estimator:hover {\n",
              "  /* unfitted */\n",
              "  background-color: var(--sklearn-color-unfitted-level-2);\n",
              "}\n",
              "\n",
              "#sk-container-id-1 div.sk-estimator.fitted:hover {\n",
              "  /* fitted */\n",
              "  background-color: var(--sklearn-color-fitted-level-2);\n",
              "}\n",
              "\n",
              "/* Specification for estimator info (e.g. \"i\" and \"?\") */\n",
              "\n",
              "/* Common style for \"i\" and \"?\" */\n",
              "\n",
              ".sk-estimator-doc-link,\n",
              "a:link.sk-estimator-doc-link,\n",
              "a:visited.sk-estimator-doc-link {\n",
              "  float: right;\n",
              "  font-size: smaller;\n",
              "  line-height: 1em;\n",
              "  font-family: monospace;\n",
              "  background-color: var(--sklearn-color-background);\n",
              "  border-radius: 1em;\n",
              "  height: 1em;\n",
              "  width: 1em;\n",
              "  text-decoration: none !important;\n",
              "  margin-left: 0.5em;\n",
              "  text-align: center;\n",
              "  /* unfitted */\n",
              "  border: var(--sklearn-color-unfitted-level-1) 1pt solid;\n",
              "  color: var(--sklearn-color-unfitted-level-1);\n",
              "}\n",
              "\n",
              ".sk-estimator-doc-link.fitted,\n",
              "a:link.sk-estimator-doc-link.fitted,\n",
              "a:visited.sk-estimator-doc-link.fitted {\n",
              "  /* fitted */\n",
              "  border: var(--sklearn-color-fitted-level-1) 1pt solid;\n",
              "  color: var(--sklearn-color-fitted-level-1);\n",
              "}\n",
              "\n",
              "/* On hover */\n",
              "div.sk-estimator:hover .sk-estimator-doc-link:hover,\n",
              ".sk-estimator-doc-link:hover,\n",
              "div.sk-label-container:hover .sk-estimator-doc-link:hover,\n",
              ".sk-estimator-doc-link:hover {\n",
              "  /* unfitted */\n",
              "  background-color: var(--sklearn-color-unfitted-level-3);\n",
              "  color: var(--sklearn-color-background);\n",
              "  text-decoration: none;\n",
              "}\n",
              "\n",
              "div.sk-estimator.fitted:hover .sk-estimator-doc-link.fitted:hover,\n",
              ".sk-estimator-doc-link.fitted:hover,\n",
              "div.sk-label-container:hover .sk-estimator-doc-link.fitted:hover,\n",
              ".sk-estimator-doc-link.fitted:hover {\n",
              "  /* fitted */\n",
              "  background-color: var(--sklearn-color-fitted-level-3);\n",
              "  color: var(--sklearn-color-background);\n",
              "  text-decoration: none;\n",
              "}\n",
              "\n",
              "/* Span, style for the box shown on hovering the info icon */\n",
              ".sk-estimator-doc-link span {\n",
              "  display: none;\n",
              "  z-index: 9999;\n",
              "  position: relative;\n",
              "  font-weight: normal;\n",
              "  right: .2ex;\n",
              "  padding: .5ex;\n",
              "  margin: .5ex;\n",
              "  width: min-content;\n",
              "  min-width: 20ex;\n",
              "  max-width: 50ex;\n",
              "  color: var(--sklearn-color-text);\n",
              "  box-shadow: 2pt 2pt 4pt #999;\n",
              "  /* unfitted */\n",
              "  background: var(--sklearn-color-unfitted-level-0);\n",
              "  border: .5pt solid var(--sklearn-color-unfitted-level-3);\n",
              "}\n",
              "\n",
              ".sk-estimator-doc-link.fitted span {\n",
              "  /* fitted */\n",
              "  background: var(--sklearn-color-fitted-level-0);\n",
              "  border: var(--sklearn-color-fitted-level-3);\n",
              "}\n",
              "\n",
              ".sk-estimator-doc-link:hover span {\n",
              "  display: block;\n",
              "}\n",
              "\n",
              "/* \"?\"-specific style due to the `<a>` HTML tag */\n",
              "\n",
              "#sk-container-id-1 a.estimator_doc_link {\n",
              "  float: right;\n",
              "  font-size: 1rem;\n",
              "  line-height: 1em;\n",
              "  font-family: monospace;\n",
              "  background-color: var(--sklearn-color-background);\n",
              "  border-radius: 1rem;\n",
              "  height: 1rem;\n",
              "  width: 1rem;\n",
              "  text-decoration: none;\n",
              "  /* unfitted */\n",
              "  color: var(--sklearn-color-unfitted-level-1);\n",
              "  border: var(--sklearn-color-unfitted-level-1) 1pt solid;\n",
              "}\n",
              "\n",
              "#sk-container-id-1 a.estimator_doc_link.fitted {\n",
              "  /* fitted */\n",
              "  border: var(--sklearn-color-fitted-level-1) 1pt solid;\n",
              "  color: var(--sklearn-color-fitted-level-1);\n",
              "}\n",
              "\n",
              "/* On hover */\n",
              "#sk-container-id-1 a.estimator_doc_link:hover {\n",
              "  /* unfitted */\n",
              "  background-color: var(--sklearn-color-unfitted-level-3);\n",
              "  color: var(--sklearn-color-background);\n",
              "  text-decoration: none;\n",
              "}\n",
              "\n",
              "#sk-container-id-1 a.estimator_doc_link.fitted:hover {\n",
              "  /* fitted */\n",
              "  background-color: var(--sklearn-color-fitted-level-3);\n",
              "}\n",
              "</style><div id=\"sk-container-id-1\" class=\"sk-top-container\"><div class=\"sk-text-repr-fallback\"><pre>RandomForestClassifier()</pre><b>In a Jupyter environment, please rerun this cell to show the HTML representation or trust the notebook. <br />On GitHub, the HTML representation is unable to render, please try loading this page with nbviewer.org.</b></div><div class=\"sk-container\" hidden><div class=\"sk-item\"><div class=\"sk-estimator fitted sk-toggleable\"><input class=\"sk-toggleable__control sk-hidden--visually\" id=\"sk-estimator-id-1\" type=\"checkbox\" checked><label for=\"sk-estimator-id-1\" class=\"sk-toggleable__label fitted sk-toggleable__label-arrow\"><div><div>RandomForestClassifier</div></div><div><a class=\"sk-estimator-doc-link fitted\" rel=\"noreferrer\" target=\"_blank\" href=\"https://scikit-learn.org/1.6/modules/generated/sklearn.ensemble.RandomForestClassifier.html\">?<span>Documentation for RandomForestClassifier</span></a><span class=\"sk-estimator-doc-link fitted\">i<span>Fitted</span></span></div></label><div class=\"sk-toggleable__content fitted\"><pre>RandomForestClassifier()</pre></div> </div></div></div></div>"
            ]
          },
          "metadata": {},
          "execution_count": 40
        }
      ]
    },
    {
      "cell_type": "markdown",
      "source": [
        "# **PREDICT TEST DATA**"
      ],
      "metadata": {
        "id": "yEth6tMym62s"
      }
    },
    {
      "cell_type": "code",
      "source": [
        "y_pred = rf.predict(x_test)"
      ],
      "metadata": {
        "id": "VLGbVXTBnFzA"
      },
      "execution_count": 41,
      "outputs": []
    },
    {
      "cell_type": "code",
      "source": [
        "y_pred"
      ],
      "metadata": {
        "colab": {
          "base_uri": "https://localhost:8080/"
        },
        "id": "vnXxlLRQnYRs",
        "outputId": "63e17871-4574-4502-a4af-fbd07bab9d22"
      },
      "execution_count": 42,
      "outputs": [
        {
          "output_type": "execute_result",
          "data": {
            "text/plain": [
              "array([2, 4, 9, 1, 5, 0, 2, 4, 9, 4, 8, 4, 4, 5, 2, 4, 8, 5, 4, 4, 7, 0,\n",
              "       3, 5, 3, 3, 0, 5, 6, 1, 5, 9, 9, 4, 9, 5, 7, 3, 2, 4, 3, 1, 3, 4,\n",
              "       2, 4, 3, 0, 3, 5, 9, 2, 3, 7, 4, 0, 5, 0, 9, 1, 9, 7, 6, 6, 5, 6,\n",
              "       3, 4, 1, 9, 6, 7, 3, 7, 9, 5, 9, 8, 6, 2, 1, 4, 9, 6, 1, 3, 0, 8,\n",
              "       8, 4, 5, 3, 1, 0, 5, 8, 4, 3, 6, 1, 0, 6, 5, 6, 3, 4, 2, 5, 3, 5,\n",
              "       6, 2, 8, 2, 5, 6, 6, 6, 1, 8, 8, 0, 6, 3, 0, 4, 0, 5, 3, 1, 0, 3,\n",
              "       8, 2, 8, 2, 8, 1, 6, 2, 0, 9, 4, 1, 0, 6, 2, 5, 3, 3, 2, 3, 5, 8,\n",
              "       9, 9, 2, 2, 5, 8, 8, 7, 9, 6, 4, 1, 1, 8, 0, 8, 1, 1, 1, 9, 9, 8,\n",
              "       9, 8, 4, 0, 2, 8, 4, 4, 6, 3, 1, 7, 0, 0, 2, 5, 3, 3, 4, 7, 7, 6,\n",
              "       0, 0, 4, 7, 9, 2, 5, 2, 0, 9, 4, 3, 5, 4, 3, 8, 2, 7, 2, 7, 5, 8,\n",
              "       1, 8, 2, 9, 7, 5, 1, 2, 4, 4, 7, 2, 0, 2, 6, 1, 1, 9, 6, 9, 0, 7,\n",
              "       1, 5, 0, 8, 0, 3, 6, 6, 1, 9, 1, 1, 4, 1, 0, 0, 6, 3, 3, 7, 0, 6,\n",
              "       3, 6, 9, 3, 7, 2, 3, 9, 4, 8, 0, 8, 6, 9, 4, 0, 1, 5, 5, 3, 8, 8,\n",
              "       9, 7, 1, 8, 0, 6, 1, 5, 4, 1, 8, 5, 1, 0, 6, 6, 2, 1, 8, 9, 8, 2,\n",
              "       7, 1, 6, 2, 0, 0, 3, 4, 5, 7, 1, 6, 8, 4, 4, 9, 2, 5, 4, 8, 9, 2,\n",
              "       8, 8, 0, 6, 4, 8, 1, 6, 4, 0, 4, 8, 7, 9, 1, 3, 7, 3, 7, 2, 8, 7,\n",
              "       4, 6, 1, 8, 7, 5, 8, 1, 6, 5, 1, 1, 7, 9, 3, 2, 2, 0, 0, 2, 5, 9,\n",
              "       2, 7, 7, 2, 8, 2, 7, 9, 3, 7, 0, 1, 9, 9, 3, 0, 4, 3, 2, 6, 0, 3,\n",
              "       9, 6, 0, 5, 6, 2, 2, 5, 4, 2, 5, 5, 3, 1, 2, 3, 4, 0, 9, 3, 7, 9,\n",
              "       3, 8, 5, 7, 5, 4, 6, 4, 7, 2, 1, 0, 0, 5, 9, 7, 8, 5, 5, 0, 6, 2,\n",
              "       1, 7, 2, 8, 0, 3, 7, 3, 3, 7, 7, 2, 9, 7, 6, 0, 0, 4, 6, 0, 1, 7,\n",
              "       3, 2, 9, 4, 5, 8, 4, 5, 7, 4, 1, 5, 2, 7, 3, 8, 9, 0, 4, 4, 0, 3,\n",
              "       9, 4, 1, 5, 4, 0, 7, 2, 4, 2, 4, 4, 6, 3, 1, 0, 4, 3, 5, 7, 1, 8,\n",
              "       9, 2, 4, 1, 4, 9, 3, 9, 0, 0, 0, 1, 7, 6, 6, 9, 2, 4, 4, 2, 2, 3,\n",
              "       8, 6, 6, 4, 4, 4, 9, 8, 8, 3, 8, 9])"
            ]
          },
          "metadata": {},
          "execution_count": 42
        }
      ]
    },
    {
      "cell_type": "markdown",
      "source": [
        "# **MODEL ACCURACY**"
      ],
      "metadata": {
        "id": "0hahLO2SnrLq"
      }
    },
    {
      "cell_type": "code",
      "source": [
        "from sklearn.metrics import confusion_matrix, classification_report"
      ],
      "metadata": {
        "id": "Af_OW3OfnuQo"
      },
      "execution_count": 46,
      "outputs": []
    },
    {
      "cell_type": "code",
      "source": [
        "confusion_matrix(y_test, y_pred)"
      ],
      "metadata": {
        "colab": {
          "base_uri": "https://localhost:8080/"
        },
        "id": "FooTnAu8oBjw",
        "outputId": "c2d1042c-e495-4c3f-a674-df2352d3f4ba"
      },
      "execution_count": 47,
      "outputs": [
        {
          "output_type": "execute_result",
          "data": {
            "text/plain": [
              "array([[58,  0,  0,  0,  1,  0,  0,  0,  0,  0],\n",
              "       [ 0, 51,  0,  0,  0,  0,  0,  0,  0,  0],\n",
              "       [ 0,  0, 57,  0,  0,  0,  0,  0,  0,  0],\n",
              "       [ 0,  0,  0, 56,  0,  0,  0,  2,  1,  0],\n",
              "       [ 0,  0,  0,  0, 64,  0,  0,  1,  0,  1],\n",
              "       [ 0,  0,  0,  0,  1, 50,  0,  0,  0,  1],\n",
              "       [ 0,  0,  0,  0,  0,  0, 49,  0,  1,  0],\n",
              "       [ 0,  0,  0,  0,  0,  0,  0, 43,  0,  1],\n",
              "       [ 0,  2,  0,  0,  0,  0,  0,  0, 50,  0],\n",
              "       [ 0,  0,  0,  1,  0,  0,  0,  0,  0, 49]])"
            ]
          },
          "metadata": {},
          "execution_count": 47
        }
      ]
    },
    {
      "cell_type": "code",
      "source": [
        "print(classification_report(y_test, y_pred))"
      ],
      "metadata": {
        "colab": {
          "base_uri": "https://localhost:8080/"
        },
        "id": "oxkn-BZSocY7",
        "outputId": "9b39ec0d-68ab-450a-d3e9-2c8c7bf96b90"
      },
      "execution_count": 48,
      "outputs": [
        {
          "output_type": "stream",
          "name": "stdout",
          "text": [
            "              precision    recall  f1-score   support\n",
            "\n",
            "           0       1.00      0.98      0.99        59\n",
            "           1       0.96      1.00      0.98        51\n",
            "           2       1.00      1.00      1.00        57\n",
            "           3       0.98      0.95      0.97        59\n",
            "           4       0.97      0.97      0.97        66\n",
            "           5       1.00      0.96      0.98        52\n",
            "           6       1.00      0.98      0.99        50\n",
            "           7       0.93      0.98      0.96        44\n",
            "           8       0.96      0.96      0.96        52\n",
            "           9       0.94      0.98      0.96        50\n",
            "\n",
            "    accuracy                           0.98       540\n",
            "   macro avg       0.98      0.98      0.98       540\n",
            "weighted avg       0.98      0.98      0.98       540\n",
            "\n"
          ]
        }
      ]
    }
  ]
}